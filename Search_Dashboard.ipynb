from jupyter_plotly_dash import JupyterDash

import dash
import dash_leaflet as dl
import dash_core_components as dcc
import dash_html_components as html
import plotly.express as px
import dash_table as dt
from dash.dependencies import Input, Output, State

import os
import numpy as np
import pandas as pd
from pymongo import MongoClient
from bson.json_util import dumps
import base64
from tkinter import *

from tabulate import tabulate

# Import the CRUD module
from CRUD import AnimalShelter

# Authenticate to the AAC database
username = "aacuser"
password = "userPassword1"
shelter = AnimalShelter(username, password)

# Retrieve all data from the database 
df = pd.DataFrame.from_records(shelter.read_all({}))

app = JupyterDash('Example')

# Add in Grazioso Salvare’s logo
image_filename = 'Grazioso_Salvare_Logo.png'
encoded_image = base64.b64encode(open(image_filename, 'rb').read())

# Position logo, dashboard title, and unique identifier
app.layout = html.Div([
    html.Center(html.B(html.H1('Search and Rescue Animal Database'))),
    html.H6("Alison Croteau"),
    html.Hr(),
    html.Div(
    # Add radio item for rescue filter options
        dcc.RadioItems(
            id="filter-type",
            options=[
                {'label': 'Dog', 'value': 'Dog'},
                {'label': 'Cat', 'value': 'Cat'}
            ],
            value='Reset',
            labelStyle=[{'display': 'inline-block'}])
    ),
    html.Hr(),
    dt.DataTable(
        id='datatable-id',
        columns=[
            {"name": i, "id": i, "deletable": False, "selectable": True} for i in df.columns
        ], 
        style_table=[{'overflowX':'scroll'}],
        data=df.to_dict('records'),
        # Set up the features for the interactive data table to make it user-friendly for the client
        editable=False,
        filter_action="native",
        sort_action="native",
        sort_mode="multi",
        column_selectable=False,
        row_selectable='multi',
        row_deletable=False,
        selected_columns=[],
        selected_rows=[],
        page_action="native",
        page_current=0,
        page_size=10,   
    ),
    html.Br(),
    html.Hr()
])
    
# Create node class and initialize the node
class Node:
    def __init__(self, data):
        self.item = data
        self.next = None
        self.prev = None
    # Create doubly linked list class
    def __init__(self):
        self.start_node = None
    # Insert Element to Empty list
    def InsertToEmptyList(self, data):
        if self.start_node is None:
            new_node = Node(data)
            self.start_node = new_node
        else:
            print("The linked list is not empty.")
    # Insert element at the end
    def InsertToEnd(self, data):
        # Check if the list is empty
        if self.start_node is None:
            new_node = Node(data)
            self.start_node = new_node
            return
        n = self.start_node
        # Iterate till the next reaches NULL
        while n.next is not None:
            n = n.next
        new_node = Node(data)
        n.next = new_node
        new_node.prev = n    
    # Create a 'next' function
    def nextNode(self, value):
        # Define current node and create results list
        currentNode = self.head
        results = []
        # Set currentNode to the next node value
        currentNode = currentNode.next
        # Add currentNode to the results list
        while currentNode is not None:
            if currentNode.has_value(value):
                results.append(currentNode)
        # Output next node
        return results
    
    # Create a 'previous' function
    def prevNode(self, value):
        # Define current node and create results list
        currentNode = self.head
        results = []
        # Set currentNode to the prev node value
        currentNode = currentNode.prev
        # Add currentNode to the results list
        while currentNode is not None:
            if currentNode.has_value(value):
                results.append(currentNode)
        # Output prev node
        return results

# Create a variable for the tkinter function
master = Tk()

#Add in callback to output selection of data
@app.callback([Output('datatable-id','data'),
               Output('datatable-id','columns')],
              [Input('filter-type', 'value')])
def dashboard_results(filter_type):
    """Filter rescue dogs based on the rescue type."""
    if filter_type == 'Dog':
        df = pd.DataFrame.from_records(shelter.filtered_rescue_dogs("Dog"))
        # Insert the resulting elements into the linked list
        df.InsertToEnd()
        # Assign node next and previous values to iterations of the results
        df.next = n.next
        df.prev = n.prev
        # Create next and previous buttons
        nextButton = Button(master, text = 'Next', command = Node.nextNode)
        button.pack()
        mainloop()
        prevButton = Button(master, text = 'Previous', command = Node.prevNode)
        button.pack()
        mainloop()
        
    elif filter_type == 'Cat':
        df = pd.DataFrame.from_records(shelter.filtered_rescue_dogs("Cat"))
        # Insert the resulting elements into the linked list
        df.InsertToEnd()
        # Assign node next and previous values to iterations of the results
        df.next = Node.nextNode()
        df.prev = Node.prevNode()
        # Create next and previous buttons
        nextButton = Button(master, text = 'Next', command = Node.nextNode)
        button.pack()
        mainloop()
        prevButton = Button(master, text = 'Previous', command = Node.prevNode)
        button.pack()
        mainloop()
                
    columns=[{"name": i, "id": i, "deletable": False, "selectable": True} for i in df.columns[1:]]
    data=df.to_dict('records')
            
    return (data,columns)

# Create a new animal as a dictionary object. 
def addAnimal(self, data: dict):
    newAnimal = {
        "animalID": "0",
        "age": "0",
        "type": "",
        "breed": "",
        "color": "",
        "name": "",
        "outcomeType": "",
        "gender": "",
        "latitude": "0.0",
        "longitude": "0.0"
        }
    
    # Insert a document into the database
    if username == "aacuser":
        if self.database.animals.insert_one(data):
            return True
            print("Animal has been added to the database.")
        else:
            raise Exception("Unable to create animal.")
    else:
        raise Exception("Invalid user type.")

# Update an animal with a return value of an object
def updateAnimal(self, search_data: dict, update_data: dict) -> object:
    update_data = {"$set":update_data}
    # Confirm that data is present
    if search_data and update_data:
        check = list(self.database.animals.find(search_data))
        # Check if the search data is in the database
        if check:
            if username == "aacuser":
                result = self.database.animals.update_many(search_data, update_data)
                return result
                print("Database entry has been updated.")
            else:
                raise Exception("Invalid user type.")
        else:
            raise Exception("There are no matching entries in the database.")
    else:
        raise Exception("Invalid search criteria.")

# Delete an animal from the database with a return value of an object
def deleteAnimal(self, data: dict) -> object:
    if data:
        check = list(self.database.animals.find(data))
        # Check if the query returned results
        if check:
            if username == "aacuser":
                result = self.database.animals.delete(data)
                return result
                print("Database entry has been deleted.")
            else:
                raise Exception("Invalid user type.")
        else:
            raise Exception("There are no matching entries in the database.")
    else:
        raise Exception("There was no criteria entered.")

# Create data for trigger table
mydata = ["%d", "%d", "%s", "%s", "%d", "%s", "%s", "%s", "%s", "%s", "%s", "%f", "%f"]

# Create trigger table headers
head = ["ID", "Animal ID", "Change Occurred", "Change By", "Age", "Type", "Breed", "Color", "Name", "outcomeType", "Gender", "Latitude", "Longitude"]

# Create a function to display the table that captures the triggers
def showChangeTable():
    print(tabulate(mydata, headers=head, tablefmt="grid"))

app